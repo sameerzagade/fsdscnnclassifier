{
 "cells": [
  {
   "cell_type": "code",
   "execution_count": 1,
   "metadata": {},
   "outputs": [],
   "source": [
    "import os\n",
    "os.chdir(\"../\")\n"
   ]
  },
  {
   "cell_type": "code",
   "execution_count": 2,
   "metadata": {},
   "outputs": [],
   "source": [
    "from dataclasses import dataclass\n",
    "from pathlib import Path\n",
    "\n",
    "@dataclass(frozen=True)\n",
    "class DataIngestionConfig:\n",
    "    root_dir: Path\n",
    "    Source_URL: str\n",
    "    local_data_file: Path\n",
    "    unzip_dir: Path"
   ]
  },
  {
   "cell_type": "code",
   "execution_count": 3,
   "metadata": {},
   "outputs": [],
   "source": [
    "from CNNClassifier.constants import *\n",
    "from CNNClassifier.utils.utils import read_yaml, create_directory"
   ]
  },
  {
   "cell_type": "code",
   "execution_count": 4,
   "metadata": {},
   "outputs": [
    {
     "data": {
      "text/plain": [
       "'c:\\\\CNN_Project\\\\fsdscnnclassifier'"
      ]
     },
     "execution_count": 4,
     "metadata": {},
     "output_type": "execute_result"
    }
   ],
   "source": [
    "%pwd"
   ]
  },
  {
   "cell_type": "code",
   "execution_count": 5,
   "metadata": {},
   "outputs": [],
   "source": [
    "class ConfigurationManager:\n",
    "    def __init__(\n",
    "        self, \n",
    "        config_filepath = CONFIG_FILE_PATH,\n",
    "        params_filepath = PARAMS_FILE_PATH):\n",
    "        self.config = read_yaml(config_filepath)\n",
    "        self.params = read_yaml(params_filepath)\n",
    "        create_directory([self.config.artifacts_root])\n",
    "        \n",
    "    def get_data_ingestion_config(self) -> DataIngestionConfig:\n",
    "        config = self.config.data_ingestion\n",
    "        \n",
    "        create_directory([config.root_dir])\n",
    "        \n",
    "        data_ingestion_config =DataIngestionConfig(\n",
    "            root_dir=config.root_dir,\n",
    "            source_URL=config.source_URL,\n",
    "            local_data_file=config.local_data_file,\n",
    "            unzip_dir=config.unzip_dir \n",
    "        )\n",
    "        return data_ingestion_config"
   ]
  },
  {
   "cell_type": "code",
   "execution_count": 6,
   "metadata": {},
   "outputs": [],
   "source": [
    "import os\n",
    "import urllib.request as request\n",
    "from zipfile import ZipFile"
   ]
  },
  {
   "cell_type": "code",
   "execution_count": 7,
   "metadata": {},
   "outputs": [],
   "source": [
    "class DataIngestion:\n",
    "    def __init__(self, config: DataIngestionConfig):\n",
    "        self.config = config\n",
    "\n",
    "    def download_file(self):\n",
    "        if not os.path.exists(self.config.local_data_file):\n",
    "            filename, headers = request.urlretrieve(\n",
    "                url = self.config.source_URL,\n",
    "                filename = self.config.local_data_file\n",
    "            )\n",
    "    def get_updated_list_of_files(self,list_of_files):\n",
    "        return [f for f in list_of_files if f.endswith(\".jpg\")]\n",
    "    \n",
    "    def preprocess(self, zf: ZipFile, f: str, working_dir: str):\n",
    "        target_filepath = os.path.join(working_dir, f)\n",
    "        if not os.path.exists(target_filepath):\n",
    "            zf.extract(f, working_dir)\n",
    "            \n",
    "    def unzip_and_clean(self):\n",
    "        with ZipFile(file=self.config.local_data_file, mode=\"r\") as zf:\n",
    "            list_of_files = zf.namelist()\n",
    "            updated_list_of_files = self.get_updated_list_of_files(list_of_files)\n",
    "            for f in updated_list_of_files:\n",
    "                self.preprocess(zf, f, self.config.unzip_dir)"
   ]
  },
  {
   "cell_type": "code",
   "execution_count": 8,
   "metadata": {},
   "outputs": [
    {
     "name": "stdout",
     "output_type": "stream",
     "text": [
      "[2023-10-28 08:32:15,542: INFO: utils]: create directory at : artifacts\n",
      "[2023-10-28 08:32:15,543: INFO: utils]: create directory at : artifacts/data_ingestion\n"
     ]
    },
    {
     "ename": "TypeError",
     "evalue": "__init__() got an unexpected keyword argument 'source_URL'",
     "output_type": "error",
     "traceback": [
      "\u001b[1;31m---------------------------------------------------------------------------\u001b[0m",
      "\u001b[1;31mTypeError\u001b[0m                                 Traceback (most recent call last)",
      "\u001b[1;32mc:\\CNN_Project\\fsdscnnclassifier\\research\\data_ingestion.ipynb Cell 8\u001b[0m line \u001b[0;36m2\n\u001b[0;32m      <a href='vscode-notebook-cell:/c%3A/CNN_Project/fsdscnnclassifier/research/data_ingestion.ipynb#X10sZmlsZQ%3D%3D?line=0'>1</a>\u001b[0m config \u001b[39m=\u001b[39m ConfigurationManager()\n\u001b[1;32m----> <a href='vscode-notebook-cell:/c%3A/CNN_Project/fsdscnnclassifier/research/data_ingestion.ipynb#X10sZmlsZQ%3D%3D?line=1'>2</a>\u001b[0m data_ingestion_config \u001b[39m=\u001b[39m config\u001b[39m.\u001b[39;49mget_data_ingestion_config()\n\u001b[0;32m      <a href='vscode-notebook-cell:/c%3A/CNN_Project/fsdscnnclassifier/research/data_ingestion.ipynb#X10sZmlsZQ%3D%3D?line=2'>3</a>\u001b[0m data_ingestion \u001b[39m=\u001b[39m DataIngestion(config\u001b[39m=\u001b[39mdata_ingestion_config)\n\u001b[0;32m      <a href='vscode-notebook-cell:/c%3A/CNN_Project/fsdscnnclassifier/research/data_ingestion.ipynb#X10sZmlsZQ%3D%3D?line=3'>4</a>\u001b[0m data_ingestion\u001b[39m.\u001b[39mdownload_file()\n",
      "\u001b[1;32mc:\\CNN_Project\\fsdscnnclassifier\\research\\data_ingestion.ipynb Cell 8\u001b[0m line \u001b[0;36m1\n\u001b[0;32m     <a href='vscode-notebook-cell:/c%3A/CNN_Project/fsdscnnclassifier/research/data_ingestion.ipynb#X10sZmlsZQ%3D%3D?line=10'>11</a>\u001b[0m config \u001b[39m=\u001b[39m \u001b[39mself\u001b[39m\u001b[39m.\u001b[39mconfig\u001b[39m.\u001b[39mdata_ingestion\n\u001b[0;32m     <a href='vscode-notebook-cell:/c%3A/CNN_Project/fsdscnnclassifier/research/data_ingestion.ipynb#X10sZmlsZQ%3D%3D?line=12'>13</a>\u001b[0m create_directory([config\u001b[39m.\u001b[39mroot_dir])\n\u001b[1;32m---> <a href='vscode-notebook-cell:/c%3A/CNN_Project/fsdscnnclassifier/research/data_ingestion.ipynb#X10sZmlsZQ%3D%3D?line=14'>15</a>\u001b[0m data_ingestion_config \u001b[39m=\u001b[39mDataIngestionConfig(\n\u001b[0;32m     <a href='vscode-notebook-cell:/c%3A/CNN_Project/fsdscnnclassifier/research/data_ingestion.ipynb#X10sZmlsZQ%3D%3D?line=15'>16</a>\u001b[0m     root_dir\u001b[39m=\u001b[39;49mconfig\u001b[39m.\u001b[39;49mroot_dir,\n\u001b[0;32m     <a href='vscode-notebook-cell:/c%3A/CNN_Project/fsdscnnclassifier/research/data_ingestion.ipynb#X10sZmlsZQ%3D%3D?line=16'>17</a>\u001b[0m     source_URL\u001b[39m=\u001b[39;49mconfig\u001b[39m.\u001b[39;49msource_URL,\n\u001b[0;32m     <a href='vscode-notebook-cell:/c%3A/CNN_Project/fsdscnnclassifier/research/data_ingestion.ipynb#X10sZmlsZQ%3D%3D?line=17'>18</a>\u001b[0m     local_data_file\u001b[39m=\u001b[39;49mconfig\u001b[39m.\u001b[39;49mlocal_data_file,\n\u001b[0;32m     <a href='vscode-notebook-cell:/c%3A/CNN_Project/fsdscnnclassifier/research/data_ingestion.ipynb#X10sZmlsZQ%3D%3D?line=18'>19</a>\u001b[0m     unzip_dir\u001b[39m=\u001b[39;49mconfig\u001b[39m.\u001b[39;49munzip_dir \n\u001b[0;32m     <a href='vscode-notebook-cell:/c%3A/CNN_Project/fsdscnnclassifier/research/data_ingestion.ipynb#X10sZmlsZQ%3D%3D?line=19'>20</a>\u001b[0m )\n\u001b[0;32m     <a href='vscode-notebook-cell:/c%3A/CNN_Project/fsdscnnclassifier/research/data_ingestion.ipynb#X10sZmlsZQ%3D%3D?line=20'>21</a>\u001b[0m \u001b[39mreturn\u001b[39;00m data_ingestion_config\n",
      "\u001b[1;31mTypeError\u001b[0m: __init__() got an unexpected keyword argument 'source_URL'"
     ]
    }
   ],
   "source": [
    "config = ConfigurationManager()\n",
    "data_ingestion_config = config.get_data_ingestion_config()\n",
    "data_ingestion = DataIngestion(config=data_ingestion_config)\n",
    "data_ingestion.download_file()\n",
    "data_ingestion.unzip_and_clean()"
   ]
  },
  {
   "cell_type": "code",
   "execution_count": null,
   "metadata": {},
   "outputs": [],
   "source": []
  }
 ],
 "metadata": {
  "kernelspec": {
   "display_name": "Python 3",
   "language": "python",
   "name": "python3"
  },
  "language_info": {
   "codemirror_mode": {
    "name": "ipython",
    "version": 3
   },
   "file_extension": ".py",
   "mimetype": "text/x-python",
   "name": "python",
   "nbconvert_exporter": "python",
   "pygments_lexer": "ipython3",
   "version": "3.8.18"
  }
 },
 "nbformat": 4,
 "nbformat_minor": 2
}
